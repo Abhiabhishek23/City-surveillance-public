{
 "cells": [
  {
   "cell_type": "code",
   "execution_count": null,
   "id": "b29c1555",
   "metadata": {},
   "outputs": [],
   "source": [
    "# Helper: set WEIGHT_SOURCE to either a public HTTP(s) URL or a model identifier like 'yolov12n.pt'.\n",
    "# If it's a URL the cell downloads the file with progress. If it's a model identifier, the later\n",
    "# YOLO(...) call will attempt to download/use it via the ultralytics API which is often fastest.\n",
    "import os\n",
    "WEIGHT_SOURCE = \"yolov12n.pt\"  # set to a direct URL (https://...) or to a model name like 'yolov12n.pt'\n",
    "WEIGHT_PATH = 'yolov12n.pt'\n",
    "\n",
    "if isinstance(WEIGHT_SOURCE, str) and WEIGHT_SOURCE.lower().startswith('http'):\n",
    "    if not os.path.exists(WEIGHT_PATH):\n",
    "        print('Downloading weights from', WEIGHT_SOURCE)\n",
    "        try:\n",
    "            import requests\n",
    "            from tqdm import tqdm\n",
    "            resp = requests.get(WEIGHT_SOURCE, stream=True)\n",
    "            total = int(resp.headers.get('content-length', 0))\n",
    "            with open(WEIGHT_PATH, 'wb') as f:\n",
    "                for chunk in tqdm(resp.iter_content(chunk_size=8192), total=max(1, total//8192)):\n",
    "                    if chunk:\n",
    "                        f.write(chunk)\n",
    "            print('Download complete:', WEIGHT_PATH)\n",
    "        except Exception as e:\n",
    "            print('Download failed:', e)\n",
    "    else:\n",
    "        print('Weights already present at', WEIGHT_PATH)\n",
    "else:\n",
    "    print('Using model identifier:', WEIGHT_SOURCE)\n",
    "    print('When the notebook calls YOLO(WEIGHT_SOURCE) the ultralytics loader will attempt to fetch or use this identifier.')\n",
    "    # Do not attempt to download here; rely on ultralytics to fetch it efficiently in the runtime.\n"
   ]
  },
  {
   "cell_type": "markdown",
   "id": "fe93f98d",
   "metadata": {},
   "source": [
    "# Kaggle: YOLOv12 Experiments (yolov12-n quick start)\n",
    "\n",
    "This notebook installs dependencies, downloads yolov12-n weights with progress, runs inference on a test sample from the project, and shows a small threshold tuning grid. It also documents how to sync results back to your local project folder."
   ]
  },
  {
   "cell_type": "markdown",
   "id": "d7327d2e",
   "metadata": {},
   "source": [
    "## 1) Setup Kaggle Notebook Environment\n",
    "Select GPU accelerator in Notebook Settings -> Accelerator -> GPU.\n",
    "Run the following cells to verify GPU and Python environment."
   ]
  },
  {
   "cell_type": "code",
   "execution_count": null,
   "id": "a8c6df73",
   "metadata": {},
   "outputs": [],
   "source": [
    "# Verify GPU availability and basic environment\n",
    "import os\n",
    "# Show NVIDIA status\n",
    "!nvidia-smi -L\n",
    "# Verify PyTorch sees GPU\n",
    "import torch\n",
    "print('torch version:', torch.__version__)\n",
    "print('cuda available:', torch.cuda.is_available())\n",
    "print('cuda devices:', torch.cuda.device_count())"
   ]
  },
  {
   "cell_type": "markdown",
   "id": "bd9c6193",
   "metadata": {},
   "source": [
    "## 2) Clone or sync the project repository\n",
    "You can either `git clone` your repository, use Kaggle Datasets, or upload a ZIP.\n",
    "Examples below assume you `git clone` from GitHub. If you prefer uploading your project as a Kaggle Dataset, use the Kaggle UI or `kaggle datasets` CLI."
   ]
  },
  {
   "cell_type": "code",
   "execution_count": null,
   "id": "71ec1b50",
   "metadata": {},
   "outputs": [],
   "source": [
    "# Example: clone your repo (replace URL)\n",
    "!git clone https://github.com/youruser/yourrepo.git project || true\n",
    "!ls -la"
   ]
  },
  {
   "cell_type": "markdown",
   "id": "97af381e",
   "metadata": {},
   "source": [
    "## 3) Install YOLOv12 and Python dependencies\n",
    "Install GPU-enabled PyTorch first (match the CUDA version shown by `nvidia-smi`). Then install ultralytics or yolov12 source if available."
   ]
  },
  {
   "cell_type": "code",
   "execution_count": null,
   "id": "6cc8d46b",
   "metadata": {},
   "outputs": [],
   "source": [
    "# Example installs (adjust CUDA wheel as needed)\n",
    "# Install a compatible torch + torchvision (example for CUDA 11.8)\n",
    "!pip install -U pip\n",
    "!pip install torch torchvision --index-url https://download.pytorch.org/whl/cu118 || true\n",
    "# Install ultralytics (works with YOLOv8 and newer APIs). If yolov12 has a package, install that instead.\n",
    "!pip install -U ultralytics==8.0.0 || true\n",
    "# If yolov12 is published or you have a repo, clone and install it: (example placeholder)\n",
    "# !git clone https://github.com/yourorg/yolov12.git && cd yolov12 && pip install -e .\n",
    "import ultralytics, torch\n",
    "print('ultralytics', ultralytics.__version__)\n",
    "print('torch', torch.__version__, 'cuda available', torch.cuda.is_available())"
   ]
  },
  {
   "cell_type": "markdown",
   "id": "7a0e157c",
   "metadata": {},
   "source": [
    "## 4) Download yolov12-n weights (with progress)\n",
    "If a public URL is available for yolov12-n weights, use `wget` or a Python stream with `tqdm` to show progress."
   ]
  },
  {
   "cell_type": "code",
   "execution_count": null,
   "id": "7550e399",
   "metadata": {},
   "outputs": [],
   "source": [
    "# Example: download with wget (replace URL)\n",
    "WEIGHT_URL = 'https://example.com/yolov12n.pt'\n",
    "WEIGHT_PATH = 'yolov12n.pt'\n",
    "# If you have a URL, uncomment the line below: wget -q --show-progress will display progress in Kaggle\n",
    "# !wget --progress=bar:force -O {WEIGHT_PATH} {WEIGHT_URL}\n",
    "print('If you have a direct URL to yolov12-n weights, download it to', WEIGHT_PATH)"
   ]
  },
  {
   "cell_type": "markdown",
   "id": "36606b13",
   "metadata": {},
   "source": [
    "## 5) Prepare dataset and single test sample\n",
    "Place one test video/image in a folder and optionally create a small YAML describing paths. For inference, labels are not required."
   ]
  },
  {
   "cell_type": "code",
   "execution_count": null,
   "id": "d536bbfc",
   "metadata": {},
   "outputs": [],
   "source": [
    "# Example: copy one test image from project folder if present\n",
    "# Adjust path to where you cloned the repo above (project)\n",
    "import os\n",
    "src = 'project/Test samples/3.mp4'\n",
    "dst = '/kaggle/working/test_sample_3.mp4'\n",
    "if os.path.exists(src):\n",
    "    !cp -v \n",
    " \n",
    " || true\n",
    "print('Test sample at', dst)"
   ]
  },
  {
   "cell_type": "markdown",
   "id": "ab9682a1",
   "metadata": {},
   "source": [
    "## 6) Run inference with yolov12-n on the test sample\n",
    "Use either the repo's detect CLI or the Python API. Below shows Python-style usage with ultralytics API (works for many YOLO versions)."
   ]
  },
  {
   "cell_type": "code",
   "execution_count": null,
   "id": "1e7fe038",
   "metadata": {},
   "outputs": [],
   "source": [
    "# Python API example (ultralytics-style)\n",
    "from ultralytics import YOLO\n",
    "# Replace with yolov12 weight path or a local file you uploaded\n",
    "weights = 'yolov12n.pt'  # change if using another path\n",
    "model = YOLO(weights)\n",
    "# Run a single inference and save results to /kaggle/working/runs\n",
    "res = model.predict(source='/kaggle/working/test_sample_3.mp4', conf=0.25, imgsz=640, save=True)\n",
    "print('Saved results, sample output object:', type(res))"
   ]
  },
  {
   "cell_type": "markdown",
   "id": "af600b7e",
   "metadata": {},
   "source": [
    "## 7) Tune Confidence / IoU thresholds on one test sample\n",
    "Loop over a small grid of `conf` and `iou` values, run inference, and display side-by-side results. Save annotated outputs for comparison."
   ]
  },
  {
   "cell_type": "code",
   "execution_count": null,
   "id": "cba84a73",
   "metadata": {},
   "outputs": [],
   "source": [
    "from IPython.display import display, Image, HTML\n",
    "import os\n",
    "from ultralytics import YOLO\n",
    "weights = 'yolov12n.pt'\n",
    "model = YOLO(weights)\n",
    "confs = [0.1, 0.25, 0.5]\n",
    "ious = [0.45, 0.5, 0.6]\n",
    "outputs = []\n",
    "for conf in confs:\n",
    "    for iou in ious:\n",
    "        name = f'test_conf_{conf}_iou_{iou}'.replace('.', '_')\n",
    "        print('Running', name)\n",
    "        model.predict(source='/kaggle/working/test_sample_3.mp4', conf=conf, iou=iou, imgsz=640, save=True, project='/kaggle/working/runs', name=name)\n",
    "        outputs.append((conf,iou,'/kaggle/working/runs',name))\n",
    "print('Done tuning grid. Outputs saved under /kaggle/working/runs')"
   ]
  },
  {
   "cell_type": "markdown",
   "id": "2daf97fa",
   "metadata": {},
   "source": [
    "## 8) Save, export and sync results back to local project folder\n",
    "Options:\n",
    "- Commit and push results to GitHub from Kaggle (requires repo access token)\n",
    "- Use `kaggle datasets create -p /kaggle/working/runs` to publish artifacts and then download locally\n",
    "- Use `rsync` or `scp` from the notebook VM to your machine (if your machine is reachable)\n",
    "Example: produce a ZIP and download via the Kaggle UI or `wget` from a public location."
   ]
  },
  {
   "cell_type": "code",
   "execution_count": null,
   "id": "e415a495",
   "metadata": {},
   "outputs": [],
   "source": [
    "# Example: zip results for download or upload as a Kaggle dataset\n",
    "!zip -r runs_artifacts.zip /kaggle/working/runs || true\n",
    "print('Created runs_artifacts.zip')"
   ]
  },
  {
   "cell_type": "markdown",
   "id": "0274e0cb",
   "metadata": {},
   "source": [
    "## 9) Reproducibility and quick notes\n",
    "Set seeds and deterministic flags to make results more reproducible. Note that first inference may be slower due to model/AOT warmup and weight download. yolov12-n is lightweight and should be ready quickly on a GPU instance."
   ]
  },
  {
   "cell_type": "code",
   "execution_count": null,
   "id": "a1fa3836",
   "metadata": {},
   "outputs": [],
   "source": [
    "import random, numpy as np, torch\n",
    "def set_seed(seed=42):\n",
    "    random.seed(seed)\n",
    "    np.random.seed(seed)\n",
    "    torch.manual_seed(seed)\n",
    "    if torch.cuda.is_available():\n",
    "        torch.cuda.manual_seed_all(seed)\n",
    "    torch.backends.cudnn.deterministic = True\n",
    "    torch.backends.cudnn.benchmark = False\n",
    "set_seed(42)\n",
    "print('Seeds set')"
   ]
  },
  {
   "cell_type": "markdown",
   "id": "01030f98",
   "metadata": {},
   "source": [
    "## 10) Benchmarking: GPU timing and throughput\n",
    "Measure per-frame inference time and GPU memory usage for simple benchmarking."
   ]
  },
  {
   "cell_type": "code",
   "execution_count": null,
   "id": "1ad0fa6e",
   "metadata": {},
   "outputs": [],
   "source": [
    "import time\n",
    "from ultralytics import YOLO\n",
    "weights = 'yolov12n.pt'\n",
    "model = YOLO(weights)\n",
    "# Warm up\n",
    "_ = model.predict(source='/kaggle/working/test_sample_3.mp4', conf=0.25, imgsz=640, stream=True)\n",
    "# Simple timing example (single image approach would be faster to stabilize)\n",
    "print('Run a small timing loop in your environment to get FPS and memory metrics')"
   ]
  },
  {
   "cell_type": "markdown",
   "id": "c1635204",
   "metadata": {},
   "source": [
    "## 11) Simple automated check for inference output\n",
    "A small test that checks an output file exists after running inference. You can adapt this into a pytest file."
   ]
  },
  {
   "cell_type": "code",
   "execution_count": null,
   "id": "44396b0f",
   "metadata": {},
   "outputs": [],
   "source": [
    "# Quick check: ensure at least one annotated file exists after running detection\n",
    "import glob\n",
    "outs = glob.glob('/kaggle/working/runs/**/*.*', recursive=True)\n",
    "print('Found output files count:', len(outs))"
   ]
  },
  {
   "cell_type": "code",
   "execution_count": null,
   "id": "ea0998b3",
   "metadata": {},
   "outputs": [],
   "source": [
    "# Package results for download/publishing\n",
    "import os\n",
    "from pathlib import Path\n",
    "runs_dir = Path('/kaggle/working/runs') if os.path.exists('/kaggle/working/runs') else Path('runs')\n",
    "zip_path = 'runs_artifacts.zip'\n",
    "if runs_dir.exists():\n",
    "    print('Zipping', runs_dir, '->', zip_path)\n",
    "    !zip -r {zip_path} {runs_dir} || true\n",
    "    print('Zipped artifacts to', zip_path)\n",
    "else:\n",
    "    print('No runs directory found at', runs_dir)\n"
   ]
  },
  {
   "cell_type": "code",
   "execution_count": null,
   "id": "b47a3b10",
   "metadata": {},
   "outputs": [],
   "source": [
    "# Diagnostic cell: check ultralytics installation and specific module\n",
    "import sys, importlib, importlib.util, os\n",
    "print('Python:', sys.version.split()[0])\n",
    "\n",
    "try:\n",
    "    import ultralytics\n",
    "    print('ultralytics imported, version:', getattr(ultralytics, '__version__', 'unknown'))\n",
    "    print('ultralytics package file:', getattr(ultralytics, '__file__', 'unknown'))\n",
    "except Exception as e:\n",
    "    print('ultralytics import failed:', repr(e))\n",
    "\n",
    "# Check whether the problematic submodule can be resolved\n",
    "mod_name = 'ultralytics.utils.callbacks.hub'\n",
    "spec = importlib.util.find_spec(mod_name)\n",
    "print(mod_name, 'spec:', spec)\n",
    "\n",
    "# Show list of available ultralytics.utils.callbacks submodules if package present\n",
    "try:\n",
    "    import pkgutil\n",
    "    import ultralytics.utils.callbacks as _cbs\n",
    "    submods = [name for _, name, _ in pkgutil.iter_modules(_cbs.__path__)]\n",
    "    print('ultralytics.utils.callbacks submodules:', submods)\n",
    "except Exception as e:\n",
    "    print('Could not list ultralytics.utils.callbacks submodules:', repr(e))\n",
    "\n",
    "# Check weight filename suggestions and existence in working dirs\n",
    "candidates = ['yolov12n.pt', 'yolo12n.pt', 'yolov12-n.pt', 'yolov12-n.pt']\n",
    "for c in candidates:\n",
    "    for p in [c, os.path.join('/kaggle/working', c), os.path.join('/kaggle/input', c)]:\n",
    "        if os.path.exists(p):\n",
    "            print('Found weight file:', p)\n",
    "\n",
    "print('\\nIf the module is missing, run a pip install/upgrade cell (see next cell in the notebook or run: pip install -U ultralytics).')\n"
   ]
  }
 ],
 "metadata": {
  "language_info": {
   "name": "python"
  }
 },
 "nbformat": 4,
 "nbformat_minor": 5
}
